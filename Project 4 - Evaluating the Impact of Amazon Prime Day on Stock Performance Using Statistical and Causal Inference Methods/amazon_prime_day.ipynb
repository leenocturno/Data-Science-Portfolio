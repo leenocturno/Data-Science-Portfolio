{
 "cells": [
  {
   "cell_type": "markdown",
   "id": "18059c8a",
   "metadata": {},
   "source": [
    "# <p style=\"text-align: center; color: #1E90FF; font-size: 25px;\">Evaluating the Impact of Amazon Prime Day on Stock Performance Using Statistical and Causal Inference Methods</p>"
   ]
  },
  {
   "cell_type": "markdown",
   "id": "683b0d47",
   "metadata": {},
   "source": [
    "### Table of Contents\n",
    "* [1. Prime Day Data](#1)\n",
    "\n",
    "* [2. Data Engineering](#2)\n",
    "\n",
    "* [3. Merging Prime and Amazon Stock Data](#3)\n",
    "\n",
    "\n",
    "* [4. Is there a statistically signifiant difference between Prime Day stock performance and non-prime day stock performance?](#3)\n",
    "\n",
    "    * [4.1 Two-Tailed Welch T Test](#41)\n",
    "\n",
    "    * [4.2 Match non-prime day data cocunt with prime day to eliminate sample imbalance and then perform T test](#42)\n",
    "\n",
    "    * [4.3 Run the match 1000 times and average the T Statistics and P Value (Permutation Matching)](#43)\n",
    "\n",
    "    * [4.4 Bootstrapping](#44)\n",
    "\n",
    "    * [4.5 Propensity Score Matching](#45)\n",
    "    "
   ]
  },
  {
   "cell_type": "code",
   "execution_count": 152,
   "id": "7cbfaaef",
   "metadata": {},
   "outputs": [],
   "source": [
    "import numpy as np\n",
    "import pandas as pd\n",
    "\n",
    "from scipy.stats import ttest_ind\n",
    "\n",
    "# For Propensity Score Matching\n",
    "import statsmodels.api as sm\n",
    "from sklearn.neighbors import NearestNeighbors\n",
    "\n",
    "pd.set_option('display.max_columns', None)"
   ]
  },
  {
   "cell_type": "code",
   "execution_count": 153,
   "id": "7c3b8f7c",
   "metadata": {},
   "outputs": [],
   "source": [
    "df_stock = pd.read_csv(\"/Users/fengli/Documents/project_1/Data Science Projects/Amazon Stock Price vs. Prime Day/stock_amz.csv\")\n",
    "df_prime = pd.read_csv(\"/Users/fengli/Documents/project_1/Data Science Projects/Amazon Stock Price vs. Prime Day/prime_day.csv\")"
   ]
  },
  {
   "cell_type": "markdown",
   "id": "d5de48d6",
   "metadata": {},
   "source": [
    "<div style=\"background-color: #EAEAEA; padding: 0px; border-radius: 5px; box-shadow: 0 4px 8px rgba(0, 0, 0, 0.1);\">\n",
    "    <h1 style=\"text-align: center; color: #333333; font-size: 20px; font-weight: bold;\", id=1>1. Prime Day Data</h1>\n",
    "</div>"
   ]
  },
  {
   "cell_type": "code",
   "execution_count": 154,
   "id": "dae972cb",
   "metadata": {},
   "outputs": [
    {
     "data": {
      "text/html": [
       "<div>\n",
       "<style scoped>\n",
       "    .dataframe tbody tr th:only-of-type {\n",
       "        vertical-align: middle;\n",
       "    }\n",
       "\n",
       "    .dataframe tbody tr th {\n",
       "        vertical-align: top;\n",
       "    }\n",
       "\n",
       "    .dataframe thead th {\n",
       "        text-align: right;\n",
       "    }\n",
       "</style>\n",
       "<table border=\"1\" class=\"dataframe\">\n",
       "  <thead>\n",
       "    <tr style=\"text-align: right;\">\n",
       "      <th></th>\n",
       "      <th>year</th>\n",
       "      <th>start_date</th>\n",
       "      <th>start_datetime</th>\n",
       "      <th>end_datetime</th>\n",
       "      <th>duration_hr</th>\n",
       "    </tr>\n",
       "  </thead>\n",
       "  <tbody>\n",
       "    <tr>\n",
       "      <th>0</th>\n",
       "      <td>2015</td>\n",
       "      <td>2015-07-15</td>\n",
       "      <td>2015-07-15 00:00:00</td>\n",
       "      <td>2015-07-16 00:00:00</td>\n",
       "      <td>24.0</td>\n",
       "    </tr>\n",
       "    <tr>\n",
       "      <th>1</th>\n",
       "      <td>2016</td>\n",
       "      <td>2016-07-12</td>\n",
       "      <td>2016-07-12 00:00:00</td>\n",
       "      <td>2016-07-13 00:00:00</td>\n",
       "      <td>24.0</td>\n",
       "    </tr>\n",
       "  </tbody>\n",
       "</table>\n",
       "</div>"
      ],
      "text/plain": [
       "   year  start_date       start_datetime         end_datetime  duration_hr\n",
       "0  2015  2015-07-15  2015-07-15 00:00:00  2015-07-16 00:00:00         24.0\n",
       "1  2016  2016-07-12  2016-07-12 00:00:00  2016-07-13 00:00:00         24.0"
      ]
     },
     "execution_count": 154,
     "metadata": {},
     "output_type": "execute_result"
    }
   ],
   "source": [
    "df_prime.head(2)"
   ]
  },
  {
   "cell_type": "code",
   "execution_count": 155,
   "id": "9afb1d26",
   "metadata": {},
   "outputs": [],
   "source": [
    "# Rename columms by appending \"prime_\" to the begining of each column name in preparation of data merge later on.\n",
    "df_prime.columns = [\"prime_\" + col for col in df_prime.columns]"
   ]
  },
  {
   "cell_type": "code",
   "execution_count": 156,
   "id": "14bd39cc",
   "metadata": {},
   "outputs": [
    {
     "name": "stdout",
     "output_type": "stream",
     "text": [
      "<class 'pandas.core.frame.DataFrame'>\n",
      "RangeIndex: 24 entries, 0 to 23\n",
      "Data columns (total 5 columns):\n",
      " #   Column                Non-Null Count  Dtype  \n",
      "---  ------                --------------  -----  \n",
      " 0   prime_year            24 non-null     int64  \n",
      " 1   prime_start_date      24 non-null     object \n",
      " 2   prime_start_datetime  24 non-null     object \n",
      " 3   prime_end_datetime    24 non-null     object \n",
      " 4   prime_duration_hr     24 non-null     float64\n",
      "dtypes: float64(1), int64(1), object(3)\n",
      "memory usage: 1.1+ KB\n"
     ]
    }
   ],
   "source": [
    "# Check data type of each column\n",
    "df_prime.info()"
   ]
  },
  {
   "cell_type": "code",
   "execution_count": 157,
   "id": "8014cfa5",
   "metadata": {},
   "outputs": [],
   "source": [
    "# Convert dates to datetime\n",
    "cols = [\"prime_start_date\", \"prime_start_datetime\", \"prime_end_datetime\"]\n",
    "df_prime[cols] = df_prime[cols].apply(pd.to_datetime)"
   ]
  },
  {
   "cell_type": "code",
   "execution_count": 158,
   "id": "8a6a8d77",
   "metadata": {},
   "outputs": [
    {
     "name": "stdout",
     "output_type": "stream",
     "text": [
      "<class 'pandas.core.frame.DataFrame'>\n",
      "RangeIndex: 24 entries, 0 to 23\n",
      "Data columns (total 5 columns):\n",
      " #   Column                Non-Null Count  Dtype         \n",
      "---  ------                --------------  -----         \n",
      " 0   prime_year            24 non-null     int64         \n",
      " 1   prime_start_date      24 non-null     datetime64[ns]\n",
      " 2   prime_start_datetime  24 non-null     datetime64[ns]\n",
      " 3   prime_end_datetime    24 non-null     datetime64[ns]\n",
      " 4   prime_duration_hr     24 non-null     float64       \n",
      "dtypes: datetime64[ns](3), float64(1), int64(1)\n",
      "memory usage: 1.1 KB\n"
     ]
    }
   ],
   "source": [
    "df_prime.info()"
   ]
  },
  {
   "cell_type": "code",
   "execution_count": 159,
   "id": "cdf78550",
   "metadata": {},
   "outputs": [],
   "source": [
    "# Sort the dataset by `prime_start_datetime` ascending\n",
    "df_prime = df_prime.sort_values(by = \"prime_start_datetime\", ascending = True)"
   ]
  },
  {
   "cell_type": "code",
   "execution_count": 160,
   "id": "32860924",
   "metadata": {},
   "outputs": [
    {
     "data": {
      "text/html": [
       "<div>\n",
       "<style scoped>\n",
       "    .dataframe tbody tr th:only-of-type {\n",
       "        vertical-align: middle;\n",
       "    }\n",
       "\n",
       "    .dataframe tbody tr th {\n",
       "        vertical-align: top;\n",
       "    }\n",
       "\n",
       "    .dataframe thead th {\n",
       "        text-align: right;\n",
       "    }\n",
       "</style>\n",
       "<table border=\"1\" class=\"dataframe\">\n",
       "  <thead>\n",
       "    <tr style=\"text-align: right;\">\n",
       "      <th></th>\n",
       "      <th>prime_year</th>\n",
       "      <th>prime_start_date</th>\n",
       "      <th>prime_start_datetime</th>\n",
       "      <th>prime_end_datetime</th>\n",
       "      <th>prime_duration_hr</th>\n",
       "    </tr>\n",
       "  </thead>\n",
       "  <tbody>\n",
       "    <tr>\n",
       "      <th>0</th>\n",
       "      <td>2015</td>\n",
       "      <td>2015-07-15</td>\n",
       "      <td>2015-07-15</td>\n",
       "      <td>2015-07-16 00:00:00</td>\n",
       "      <td>24.0</td>\n",
       "    </tr>\n",
       "    <tr>\n",
       "      <th>1</th>\n",
       "      <td>2016</td>\n",
       "      <td>2016-07-12</td>\n",
       "      <td>2016-07-12</td>\n",
       "      <td>2016-07-13 00:00:00</td>\n",
       "      <td>24.0</td>\n",
       "    </tr>\n",
       "    <tr>\n",
       "      <th>2</th>\n",
       "      <td>2017</td>\n",
       "      <td>2017-07-11</td>\n",
       "      <td>2017-07-11</td>\n",
       "      <td>2017-07-12 00:00:00</td>\n",
       "      <td>24.0</td>\n",
       "    </tr>\n",
       "    <tr>\n",
       "      <th>3</th>\n",
       "      <td>2017</td>\n",
       "      <td>2017-07-12</td>\n",
       "      <td>2017-07-12</td>\n",
       "      <td>2017-07-12 06:00:00</td>\n",
       "      <td>6.0</td>\n",
       "    </tr>\n",
       "    <tr>\n",
       "      <th>4</th>\n",
       "      <td>2018</td>\n",
       "      <td>2018-07-16</td>\n",
       "      <td>2018-07-16</td>\n",
       "      <td>2018-07-17 00:00:00</td>\n",
       "      <td>24.0</td>\n",
       "    </tr>\n",
       "  </tbody>\n",
       "</table>\n",
       "</div>"
      ],
      "text/plain": [
       "   prime_year prime_start_date prime_start_datetime  prime_end_datetime  \\\n",
       "0        2015       2015-07-15           2015-07-15 2015-07-16 00:00:00   \n",
       "1        2016       2016-07-12           2016-07-12 2016-07-13 00:00:00   \n",
       "2        2017       2017-07-11           2017-07-11 2017-07-12 00:00:00   \n",
       "3        2017       2017-07-12           2017-07-12 2017-07-12 06:00:00   \n",
       "4        2018       2018-07-16           2018-07-16 2018-07-17 00:00:00   \n",
       "\n",
       "   prime_duration_hr  \n",
       "0               24.0  \n",
       "1               24.0  \n",
       "2               24.0  \n",
       "3                6.0  \n",
       "4               24.0  "
      ]
     },
     "execution_count": 160,
     "metadata": {},
     "output_type": "execute_result"
    }
   ],
   "source": [
    "df_prime.head()"
   ]
  },
  {
   "cell_type": "markdown",
   "id": "b34114e9",
   "metadata": {},
   "source": [
    "<div style=\"background-color: #EAEAEA; padding: 0px; border-radius: 5px; box-shadow: 0 4px 8px rgba(0, 0, 0, 0.1);\">\n",
    "    <h1 style=\"text-align: center; color: #333333; font-size: 20px; font-weight: bold;\", id=2>2. Amazon Stock Data</h1>\n",
    "</div>"
   ]
  },
  {
   "cell_type": "markdown",
   "id": "911d3479",
   "metadata": {},
   "source": [
    "Preprocessing df_stock"
   ]
  },
  {
   "cell_type": "code",
   "execution_count": 105,
   "id": "be3bfcc6",
   "metadata": {},
   "outputs": [
    {
     "data": {
      "text/html": [
       "<div>\n",
       "<style scoped>\n",
       "    .dataframe tbody tr th:only-of-type {\n",
       "        vertical-align: middle;\n",
       "    }\n",
       "\n",
       "    .dataframe tbody tr th {\n",
       "        vertical-align: top;\n",
       "    }\n",
       "\n",
       "    .dataframe thead th {\n",
       "        text-align: right;\n",
       "    }\n",
       "</style>\n",
       "<table border=\"1\" class=\"dataframe\">\n",
       "  <thead>\n",
       "    <tr style=\"text-align: right;\">\n",
       "      <th></th>\n",
       "      <th>Date</th>\n",
       "      <th>Price</th>\n",
       "      <th>Open</th>\n",
       "      <th>High</th>\n",
       "      <th>Low</th>\n",
       "      <th>Vol.</th>\n",
       "      <th>Change %</th>\n",
       "    </tr>\n",
       "  </thead>\n",
       "  <tbody>\n",
       "    <tr>\n",
       "      <th>0</th>\n",
       "      <td>06/24/2025</td>\n",
       "      <td>212.77</td>\n",
       "      <td>212.13</td>\n",
       "      <td>214.34</td>\n",
       "      <td>211.04</td>\n",
       "      <td>38.38M</td>\n",
       "      <td>2.06%</td>\n",
       "    </tr>\n",
       "    <tr>\n",
       "      <th>1</th>\n",
       "      <td>06/23/2025</td>\n",
       "      <td>208.47</td>\n",
       "      <td>209.79</td>\n",
       "      <td>210.39</td>\n",
       "      <td>207.31</td>\n",
       "      <td>37.31M</td>\n",
       "      <td>-0.58%</td>\n",
       "    </tr>\n",
       "  </tbody>\n",
       "</table>\n",
       "</div>"
      ],
      "text/plain": [
       "         Date   Price    Open    High     Low    Vol. Change %\n",
       "0  06/24/2025  212.77  212.13  214.34  211.04  38.38M    2.06%\n",
       "1  06/23/2025  208.47  209.79  210.39  207.31  37.31M   -0.58%"
      ]
     },
     "execution_count": 105,
     "metadata": {},
     "output_type": "execute_result"
    }
   ],
   "source": [
    "df_stock.head(2)"
   ]
  },
  {
   "cell_type": "markdown",
   "id": "a6b18c08",
   "metadata": {},
   "source": [
    "2.1 Rename columms by appending \"stock_\" to the begining of each column name in preparation of data merge later on."
   ]
  },
  {
   "cell_type": "code",
   "execution_count": 106,
   "id": "1f8ee193",
   "metadata": {},
   "outputs": [
    {
     "data": {
      "text/html": [
       "<div>\n",
       "<style scoped>\n",
       "    .dataframe tbody tr th:only-of-type {\n",
       "        vertical-align: middle;\n",
       "    }\n",
       "\n",
       "    .dataframe tbody tr th {\n",
       "        vertical-align: top;\n",
       "    }\n",
       "\n",
       "    .dataframe thead th {\n",
       "        text-align: right;\n",
       "    }\n",
       "</style>\n",
       "<table border=\"1\" class=\"dataframe\">\n",
       "  <thead>\n",
       "    <tr style=\"text-align: right;\">\n",
       "      <th></th>\n",
       "      <th>stock_Date</th>\n",
       "      <th>stock_Price</th>\n",
       "      <th>stock_Open</th>\n",
       "      <th>stock_High</th>\n",
       "      <th>stock_Low</th>\n",
       "      <th>stock_Vol.</th>\n",
       "      <th>stock_Change %</th>\n",
       "    </tr>\n",
       "  </thead>\n",
       "  <tbody>\n",
       "    <tr>\n",
       "      <th>0</th>\n",
       "      <td>06/24/2025</td>\n",
       "      <td>212.77</td>\n",
       "      <td>212.13</td>\n",
       "      <td>214.34</td>\n",
       "      <td>211.04</td>\n",
       "      <td>38.38M</td>\n",
       "      <td>2.06%</td>\n",
       "    </tr>\n",
       "    <tr>\n",
       "      <th>1</th>\n",
       "      <td>06/23/2025</td>\n",
       "      <td>208.47</td>\n",
       "      <td>209.79</td>\n",
       "      <td>210.39</td>\n",
       "      <td>207.31</td>\n",
       "      <td>37.31M</td>\n",
       "      <td>-0.58%</td>\n",
       "    </tr>\n",
       "  </tbody>\n",
       "</table>\n",
       "</div>"
      ],
      "text/plain": [
       "   stock_Date  stock_Price  stock_Open  stock_High  stock_Low stock_Vol.  \\\n",
       "0  06/24/2025       212.77      212.13      214.34     211.04     38.38M   \n",
       "1  06/23/2025       208.47      209.79      210.39     207.31     37.31M   \n",
       "\n",
       "  stock_Change %  \n",
       "0          2.06%  \n",
       "1         -0.58%  "
      ]
     },
     "execution_count": 106,
     "metadata": {},
     "output_type": "execute_result"
    }
   ],
   "source": [
    "df_stock.columns = [\"stock_\" + col for col in df_stock.columns]\n",
    "df_stock.head(2)"
   ]
  },
  {
   "cell_type": "code",
   "execution_count": 107,
   "id": "4dac7dd0",
   "metadata": {},
   "outputs": [],
   "source": [
    "df_stock[\"stock_Date\"] = pd.to_datetime(df_stock[\"stock_Date\"]).dt.strftime('%Y-%m-%d')\n",
    "df_stock[\"stock_Date\"] = pd.to_datetime(df_stock[\"stock_Date\"])"
   ]
  },
  {
   "cell_type": "code",
   "execution_count": 108,
   "id": "18cc78a9",
   "metadata": {},
   "outputs": [],
   "source": [
    "df_stock = df_stock.rename(columns = {\"stock_Change %\":\"stock_Change_%\",})\n",
    "df_stock[\"stock_Change_%\"] = df_stock[\"stock_Change_%\"].str.rstrip(\"%\").astype(\"float\")             "
   ]
  },
  {
   "cell_type": "code",
   "execution_count": 109,
   "id": "785135c1",
   "metadata": {},
   "outputs": [],
   "source": [
    "df_stock[\"Prime_day\"] = df_stock[\"stock_Date\"].isin(df_prime[\"prime_start_date\"])"
   ]
  },
  {
   "cell_type": "markdown",
   "id": "bca39dca",
   "metadata": {},
   "source": [
    "<div style=\"background-color: #EAEAEA; padding: 0px; border-radius: 5px; box-shadow: 0 4px 8px rgba(0, 0, 0, 0.1);\">\n",
    "    <h1 style=\"text-align: center; color: #333333; font-size: 20px; font-weight: bold;\", id=3>3. Merge Prime and Stock data</h1>\n",
    "</div>"
   ]
  },
  {
   "cell_type": "code",
   "execution_count": 110,
   "id": "7c1d7353",
   "metadata": {},
   "outputs": [
    {
     "data": {
      "text/plain": [
       "(3892, 13)"
      ]
     },
     "execution_count": 110,
     "metadata": {},
     "output_type": "execute_result"
    }
   ],
   "source": [
    "df_merged = df_prime.merge(df_stock, how = \"right\", left_on = \"prime_start_date\", right_on = \"stock_Date\")\n",
    "df_merged.shape"
   ]
  },
  {
   "cell_type": "code",
   "execution_count": 111,
   "id": "83c68b40",
   "metadata": {},
   "outputs": [
    {
     "data": {
      "text/html": [
       "<div>\n",
       "<style scoped>\n",
       "    .dataframe tbody tr th:only-of-type {\n",
       "        vertical-align: middle;\n",
       "    }\n",
       "\n",
       "    .dataframe tbody tr th {\n",
       "        vertical-align: top;\n",
       "    }\n",
       "\n",
       "    .dataframe thead th {\n",
       "        text-align: right;\n",
       "    }\n",
       "</style>\n",
       "<table border=\"1\" class=\"dataframe\">\n",
       "  <thead>\n",
       "    <tr style=\"text-align: right;\">\n",
       "      <th></th>\n",
       "      <th>prime_year</th>\n",
       "      <th>prime_start_date</th>\n",
       "      <th>prime_start_datetime</th>\n",
       "      <th>prime_end_datetime</th>\n",
       "      <th>prime_duration_hr</th>\n",
       "      <th>stock_Date</th>\n",
       "      <th>stock_Price</th>\n",
       "      <th>stock_Open</th>\n",
       "      <th>stock_High</th>\n",
       "      <th>stock_Low</th>\n",
       "      <th>stock_Vol.</th>\n",
       "      <th>stock_Change_%</th>\n",
       "      <th>Prime_day</th>\n",
       "    </tr>\n",
       "  </thead>\n",
       "  <tbody>\n",
       "    <tr>\n",
       "      <th>0</th>\n",
       "      <td>NaN</td>\n",
       "      <td>NaT</td>\n",
       "      <td>NaT</td>\n",
       "      <td>NaT</td>\n",
       "      <td>NaN</td>\n",
       "      <td>2025-06-24</td>\n",
       "      <td>212.77</td>\n",
       "      <td>212.13</td>\n",
       "      <td>214.34</td>\n",
       "      <td>211.04</td>\n",
       "      <td>38.38M</td>\n",
       "      <td>2.06</td>\n",
       "      <td>False</td>\n",
       "    </tr>\n",
       "    <tr>\n",
       "      <th>1</th>\n",
       "      <td>NaN</td>\n",
       "      <td>NaT</td>\n",
       "      <td>NaT</td>\n",
       "      <td>NaT</td>\n",
       "      <td>NaN</td>\n",
       "      <td>2025-06-23</td>\n",
       "      <td>208.47</td>\n",
       "      <td>209.79</td>\n",
       "      <td>210.39</td>\n",
       "      <td>207.31</td>\n",
       "      <td>37.31M</td>\n",
       "      <td>-0.58</td>\n",
       "      <td>False</td>\n",
       "    </tr>\n",
       "    <tr>\n",
       "      <th>2</th>\n",
       "      <td>NaN</td>\n",
       "      <td>NaT</td>\n",
       "      <td>NaT</td>\n",
       "      <td>NaT</td>\n",
       "      <td>NaN</td>\n",
       "      <td>2025-06-20</td>\n",
       "      <td>209.69</td>\n",
       "      <td>214.68</td>\n",
       "      <td>214.89</td>\n",
       "      <td>208.27</td>\n",
       "      <td>75.35M</td>\n",
       "      <td>-1.33</td>\n",
       "      <td>False</td>\n",
       "    </tr>\n",
       "    <tr>\n",
       "      <th>3</th>\n",
       "      <td>NaN</td>\n",
       "      <td>NaT</td>\n",
       "      <td>NaT</td>\n",
       "      <td>NaT</td>\n",
       "      <td>NaN</td>\n",
       "      <td>2025-06-18</td>\n",
       "      <td>212.52</td>\n",
       "      <td>215.09</td>\n",
       "      <td>217.96</td>\n",
       "      <td>212.34</td>\n",
       "      <td>44.36M</td>\n",
       "      <td>-1.07</td>\n",
       "      <td>False</td>\n",
       "    </tr>\n",
       "    <tr>\n",
       "      <th>4</th>\n",
       "      <td>NaN</td>\n",
       "      <td>NaT</td>\n",
       "      <td>NaT</td>\n",
       "      <td>NaT</td>\n",
       "      <td>NaN</td>\n",
       "      <td>2025-06-17</td>\n",
       "      <td>214.82</td>\n",
       "      <td>215.20</td>\n",
       "      <td>217.41</td>\n",
       "      <td>214.56</td>\n",
       "      <td>32.09M</td>\n",
       "      <td>-0.59</td>\n",
       "      <td>False</td>\n",
       "    </tr>\n",
       "  </tbody>\n",
       "</table>\n",
       "</div>"
      ],
      "text/plain": [
       "   prime_year prime_start_date prime_start_datetime prime_end_datetime  \\\n",
       "0         NaN              NaT                  NaT                NaT   \n",
       "1         NaN              NaT                  NaT                NaT   \n",
       "2         NaN              NaT                  NaT                NaT   \n",
       "3         NaN              NaT                  NaT                NaT   \n",
       "4         NaN              NaT                  NaT                NaT   \n",
       "\n",
       "   prime_duration_hr stock_Date  stock_Price  stock_Open  stock_High  \\\n",
       "0                NaN 2025-06-24       212.77      212.13      214.34   \n",
       "1                NaN 2025-06-23       208.47      209.79      210.39   \n",
       "2                NaN 2025-06-20       209.69      214.68      214.89   \n",
       "3                NaN 2025-06-18       212.52      215.09      217.96   \n",
       "4                NaN 2025-06-17       214.82      215.20      217.41   \n",
       "\n",
       "   stock_Low stock_Vol.  stock_Change_%  Prime_day  \n",
       "0     211.04     38.38M            2.06      False  \n",
       "1     207.31     37.31M           -0.58      False  \n",
       "2     208.27     75.35M           -1.33      False  \n",
       "3     212.34     44.36M           -1.07      False  \n",
       "4     214.56     32.09M           -0.59      False  "
      ]
     },
     "execution_count": 111,
     "metadata": {},
     "output_type": "execute_result"
    }
   ],
   "source": [
    "df_merged.head()"
   ]
  },
  {
   "cell_type": "markdown",
   "id": "0204bb2b",
   "metadata": {},
   "source": [
    "<div style=\"background-color: #EAEAEA; padding: 0px; border-radius: 5px; box-shadow: 0 4px 8px rgba(0, 0, 0, 0.1);\">\n",
    "    <h1 style=\"text-align: center; color: #333333; font-size: 20px; font-weight: bold;\", id=4>4. Is there a statistically signifiant difference between Prime Day stock performance and non-prime day stock performance?</h1>\n",
    "</div>"
   ]
  },
  {
   "cell_type": "markdown",
   "id": "1b5e3c22",
   "metadata": {},
   "source": [
    "Null hypothesis: There is no difference in `Change_%` between Prime Days and non-Prime Days.\n",
    "\n",
    "Alternative hypothesis: There is a difference in `Change_%`between the two.\n",
    "\n",
    "Significance Level: 0.05"
   ]
  },
  {
   "cell_type": "code",
   "execution_count": 112,
   "id": "b2fd4d1b",
   "metadata": {},
   "outputs": [],
   "source": [
    "prime = df_merged[df_merged[\"Prime_day\"]][\"stock_Change_%\"].dropna()\n",
    "nonprime = df_merged[~df_merged[\"Prime_day\"]][\"stock_Change_%\"].dropna()"
   ]
  },
  {
   "cell_type": "code",
   "execution_count": 113,
   "id": "e4cd11fb",
   "metadata": {},
   "outputs": [
    {
     "name": "stdout",
     "output_type": "stream",
     "text": [
      "-0.19736842105263164\n",
      "0.11168861347792408\n"
     ]
    }
   ],
   "source": [
    "print(prime.mean())\n",
    "print(nonprime.mean())"
   ]
  },
  {
   "cell_type": "markdown",
   "id": "82ccbb16",
   "metadata": {},
   "source": [
    "<h4 id=\"41\">📊 Option 1: Two-Tail Welch T Test</h4>"
   ]
  },
  {
   "cell_type": "code",
   "execution_count": 114,
   "id": "94298d64",
   "metadata": {},
   "outputs": [
    {
     "name": "stdout",
     "output_type": "stream",
     "text": [
      "T-statistic: -0.956, P-value: 0.3516\n"
     ]
    }
   ],
   "source": [
    "t_stat, p_val = ttest_ind(prime, nonprime, equal_var=False)\n",
    "print(f\"T-statistic: {t_stat:.3f}, P-value: {p_val:.4f}\")"
   ]
  },
  {
   "cell_type": "markdown",
   "id": "fdb3e10f",
   "metadata": {},
   "source": [
    "The Welch's T Test indicates that the mean stock return on Prime Days in 0.956 standard errors lower than the mean on non-Prime days. It is a small difference and the P value is greater than our significance level, I fail to reject the null hypothesis. \n",
    "\n",
    "However, with 19 prime days and over 3000 non prime days, statitical power is low, which means a true effect might go undetected unless the sample size of prime day is also large enough (19 is on the edge of small). So even though Welch T test is adjusted to address the unequal variances and sample sizes between groups, the test may still fail to detect it because there is not enough data (low power).\n",
    "\n",
    "We failed our first statistical test IN TERMS OF what we expect to proof in mind."
   ]
  },
  {
   "cell_type": "markdown",
   "id": "eafbec77",
   "metadata": {},
   "source": [
    "<h4 id=\"42\">📊 Option 2: Match non-prime day data cocunt with prime day to eliminate sample imbalance and then perform T test.</h4>"
   ]
  },
  {
   "cell_type": "code",
   "execution_count": 115,
   "id": "930b873f",
   "metadata": {},
   "outputs": [
    {
     "name": "stdout",
     "output_type": "stream",
     "text": [
      "T-statistic: -2.613, P-value: 0.0132\n"
     ]
    }
   ],
   "source": [
    "nonprime_matched = nonprime.sample(n=19, random_state=42)\n",
    "t_stat, p_val = ttest_ind(prime, nonprime_matched, equal_var=False)\n",
    "print(f\"T-statistic: {t_stat:.3f}, P-value: {p_val:.4f}\")"
   ]
  },
  {
   "cell_type": "markdown",
   "id": "b06320f3",
   "metadata": {},
   "source": [
    "The average prime day stock return is 2.613 standard error lower than on non Prime days with a p value of 0.0132, indicating that this result is statistically significant.\n",
    "\n",
    "However, I randomly selected only 19 sample from total of 3000+ non Prime days, next step, I will run match 1000 times and average both the t statistic and p value to compare the result.\n",
    "\n",
    "This could be due to the following reasons:\n",
    "\n",
    "1. Before Prime day, investors might get excited buying Amazon stock in anticipation of strong performance, and once Prime day arrives, some invesstors sell to lock in profits. The stock prime may drop at the end of the day, even if the event itself is successful.\n",
    "\n",
    "2. Traders often buy stocks weeks or days before an expected positive event, and by the time Prime day actually arrives, the expected gains are already priced into the stock.\n",
    "\n",
    "3. Other macro factors: such as interest rate, inflation, geopolitical events, which means, even if Prime Day is a success, overall market negativity can drag the stock down."
   ]
  },
  {
   "cell_type": "markdown",
   "id": "19df02cb",
   "metadata": {},
   "source": [
    "<h4 id=\"43\">📊 Option 3: Run the match 1000 times and average the T Statistics and P Value (Permutation Matching) </h4>"
   ]
  },
  {
   "cell_type": "code",
   "execution_count": 116,
   "id": "3023dd67",
   "metadata": {},
   "outputs": [
    {
     "name": "stdout",
     "output_type": "stream",
     "text": [
      "Average T Statistics: -0.553857701705394\n",
      "Average P Value: 0.49803206249726806\n"
     ]
    }
   ],
   "source": [
    "# Convert pandas series to NumPy array, which is much faster for operations like random sampling or math computation.\n",
    "prime_arr = prime.values\n",
    "nonprime_arr = nonprime.values\n",
    "\n",
    "t_values = []\n",
    "p_values = []\n",
    "\n",
    "np.random.seed(42)\n",
    "\n",
    "for _ in range(1000):\n",
    "    sampled_nonprime = np.random.choice(nonprime_arr, size=len(prime_arr), replace = True)\n",
    "\n",
    "    t_stat, p_val = ttest_ind(prime_arr, sampled_nonprime, equal_var = False)\n",
    "\n",
    "    t_values.append(t_stat)\n",
    "    p_values.append(p_val)\n",
    "\n",
    "avg_t = np.mean(t_values)\n",
    "avg_p = np.mean(p_values)\n",
    "\n",
    "print(\"Average T Statistics:\", avg_t)\n",
    "print(\"Average P Value:\", avg_p)"
   ]
  },
  {
   "cell_type": "markdown",
   "id": "63ca59d3",
   "metadata": {},
   "source": [
    "Across many random matches, there is no consistent evidence that Prime day returns differ meaningfully from non prime days."
   ]
  },
  {
   "cell_type": "markdown",
   "id": "bb1700e1",
   "metadata": {},
   "source": [
    "<h4 id=\"44\">📊 Option 4: Bootstrapping </h4>"
   ]
  },
  {
   "cell_type": "code",
   "execution_count": 117,
   "id": "73a4cbd7",
   "metadata": {},
   "outputs": [
    {
     "name": "stdout",
     "output_type": "stream",
     "text": [
      "95% CI of mean difference: (-0.9239, 0.2941)\n"
     ]
    }
   ],
   "source": [
    "diffs = []\n",
    "for _ in range(1000):\n",
    "    boot_prime = np.random.choice(prime, size=len(prime), replace=True)\n",
    "    boot_nonprime = np.random.choice(nonprime, size=len(nonprime), replace=True)\n",
    "    diff = np.mean(boot_prime) - np.mean(boot_nonprime)\n",
    "    diffs.append(diff)\n",
    "\n",
    "# Compute 95% confidence interval\n",
    "lower, upper = np.percentile(diffs, [2.5, 97.5])\n",
    "print(f\"95% CI of mean difference: ({lower:.4f}, {upper:.4f})\")"
   ]
  },
  {
   "cell_type": "markdown",
   "id": "4385b505",
   "metadata": {},
   "source": [
    "We are 95% confident that the true mean difference (Prime - non-Prime) lies somewhere between -0.9952 and 0.2885. Since 0 is within the interval, the difference is not statistically significant at the 95% level."
   ]
  },
  {
   "cell_type": "markdown",
   "id": "c11792b7",
   "metadata": {},
   "source": [
    "<h4 id=\"45\">📊 Option 5: Propensity Score Matching </h4>"
   ]
  },
  {
   "cell_type": "code",
   "execution_count": 118,
   "id": "4739b2b7",
   "metadata": {},
   "outputs": [],
   "source": [
    "df_propensity = df_merged.copy()"
   ]
  },
  {
   "cell_type": "code",
   "execution_count": 119,
   "id": "af836a4e",
   "metadata": {},
   "outputs": [
    {
     "name": "stdout",
     "output_type": "stream",
     "text": [
      "2010-01-04 00:00:00\n",
      "2025-06-24 00:00:00\n",
      "First Prime Day\n",
      "2015-07-15 00:00:00\n"
     ]
    }
   ],
   "source": [
    "print(df_propensity.stock_Date.min())\n",
    "print(df_propensity.stock_Date.max())\n",
    "\n",
    "print(\"First Prime Day\")\n",
    "first_prime_day = df_propensity.loc[df_propensity[\"Prime_day\"]==True, \"stock_Date\"].min()\n",
    "print(first_prime_day)"
   ]
  },
  {
   "cell_type": "markdown",
   "id": "2be0a573",
   "metadata": {},
   "source": [
    "Collect and process covariates that determines propensity score\n",
    "1. Days of week\n",
    "2. Month\n",
    "3. Trading Volume\n",
    "4. Market Return\n",
    "5. Five Day Market Return Trend\n",
    "6. Interest Rate\n",
    "7. Inflation"
   ]
  },
  {
   "cell_type": "code",
   "execution_count": 120,
   "id": "862ad77d",
   "metadata": {},
   "outputs": [],
   "source": [
    "# Days of week: Stocks behave differently on Mondays vs Fridays\n",
    "df_propensity[\"Days_of_week\"] = df_propensity[\"stock_Date\"].dt.weekday\n",
    "# Month\n",
    "df_propensity[\"Month\"] = df_propensity[\"stock_Date\"].dt.month"
   ]
  },
  {
   "cell_type": "code",
   "execution_count": 121,
   "id": "58788282",
   "metadata": {},
   "outputs": [
    {
     "data": {
      "text/html": [
       "<div>\n",
       "<style scoped>\n",
       "    .dataframe tbody tr th:only-of-type {\n",
       "        vertical-align: middle;\n",
       "    }\n",
       "\n",
       "    .dataframe tbody tr th {\n",
       "        vertical-align: top;\n",
       "    }\n",
       "\n",
       "    .dataframe thead th {\n",
       "        text-align: right;\n",
       "    }\n",
       "</style>\n",
       "<table border=\"1\" class=\"dataframe\">\n",
       "  <thead>\n",
       "    <tr style=\"text-align: right;\">\n",
       "      <th></th>\n",
       "      <th>Date</th>\n",
       "      <th>Open</th>\n",
       "      <th>High</th>\n",
       "      <th>Low</th>\n",
       "      <th>Close</th>\n",
       "      <th>Adj Close</th>\n",
       "      <th>Volume</th>\n",
       "    </tr>\n",
       "  </thead>\n",
       "  <tbody>\n",
       "    <tr>\n",
       "      <th>0</th>\n",
       "      <td>1927-12-30</td>\n",
       "      <td>17.660000</td>\n",
       "      <td>17.660000</td>\n",
       "      <td>17.660000</td>\n",
       "      <td>17.660000</td>\n",
       "      <td>17.660000</td>\n",
       "      <td>0</td>\n",
       "    </tr>\n",
       "    <tr>\n",
       "      <th>1</th>\n",
       "      <td>1928-01-03</td>\n",
       "      <td>17.760000</td>\n",
       "      <td>17.760000</td>\n",
       "      <td>17.760000</td>\n",
       "      <td>17.760000</td>\n",
       "      <td>17.760000</td>\n",
       "      <td>0</td>\n",
       "    </tr>\n",
       "    <tr>\n",
       "      <th>2</th>\n",
       "      <td>1928-01-04</td>\n",
       "      <td>17.719999</td>\n",
       "      <td>17.719999</td>\n",
       "      <td>17.719999</td>\n",
       "      <td>17.719999</td>\n",
       "      <td>17.719999</td>\n",
       "      <td>0</td>\n",
       "    </tr>\n",
       "    <tr>\n",
       "      <th>3</th>\n",
       "      <td>1928-01-05</td>\n",
       "      <td>17.549999</td>\n",
       "      <td>17.549999</td>\n",
       "      <td>17.549999</td>\n",
       "      <td>17.549999</td>\n",
       "      <td>17.549999</td>\n",
       "      <td>0</td>\n",
       "    </tr>\n",
       "    <tr>\n",
       "      <th>4</th>\n",
       "      <td>1928-01-06</td>\n",
       "      <td>17.660000</td>\n",
       "      <td>17.660000</td>\n",
       "      <td>17.660000</td>\n",
       "      <td>17.660000</td>\n",
       "      <td>17.660000</td>\n",
       "      <td>0</td>\n",
       "    </tr>\n",
       "  </tbody>\n",
       "</table>\n",
       "</div>"
      ],
      "text/plain": [
       "         Date       Open       High        Low      Close  Adj Close  Volume\n",
       "0  1927-12-30  17.660000  17.660000  17.660000  17.660000  17.660000       0\n",
       "1  1928-01-03  17.760000  17.760000  17.760000  17.760000  17.760000       0\n",
       "2  1928-01-04  17.719999  17.719999  17.719999  17.719999  17.719999       0\n",
       "3  1928-01-05  17.549999  17.549999  17.549999  17.549999  17.549999       0\n",
       "4  1928-01-06  17.660000  17.660000  17.660000  17.660000  17.660000       0"
      ]
     },
     "execution_count": 121,
     "metadata": {},
     "output_type": "execute_result"
    }
   ],
   "source": [
    "# Market return, trading volume\n",
    "sp500 = pd.read_csv(\"/Users/fengli/Documents/project_1/Data Science Projects/Amazon Stock Price vs. Prime Day/sp500.csv\")\n",
    "sp500.head()"
   ]
  },
  {
   "cell_type": "code",
   "execution_count": 122,
   "id": "e2e9945d",
   "metadata": {},
   "outputs": [
    {
     "name": "stdout",
     "output_type": "stream",
     "text": [
      "<class 'pandas.core.frame.DataFrame'>\n",
      "RangeIndex: 23323 entries, 0 to 23322\n",
      "Data columns (total 7 columns):\n",
      " #   Column     Non-Null Count  Dtype  \n",
      "---  ------     --------------  -----  \n",
      " 0   Date       23323 non-null  object \n",
      " 1   Open       23323 non-null  float64\n",
      " 2   High       23323 non-null  float64\n",
      " 3   Low        23323 non-null  float64\n",
      " 4   Close      23323 non-null  float64\n",
      " 5   Adj Close  23323 non-null  float64\n",
      " 6   Volume     23323 non-null  int64  \n",
      "dtypes: float64(5), int64(1), object(1)\n",
      "memory usage: 1.2+ MB\n"
     ]
    }
   ],
   "source": [
    "sp500.info()"
   ]
  },
  {
   "cell_type": "code",
   "execution_count": 123,
   "id": "5be1a093",
   "metadata": {},
   "outputs": [],
   "source": [
    "# Rename all columns\n",
    "sp500.columns = [\"sp500_\" + col for col in sp500.columns]\n",
    "\n",
    "sp500[\"sp500_Date\"] = pd.to_datetime(sp500[\"sp500_Date\"])\n",
    "sp500 = sp500.sort_values(by = \"sp500_Date\")\n",
    "\n",
    "sp500 = sp500[\n",
    "    (sp500['sp500_Date'] >= df_propensity['stock_Date'].min()) &\n",
    "    (sp500['sp500_Date'] <= df_propensity['stock_Date'].max())\n",
    "]"
   ]
  },
  {
   "cell_type": "code",
   "execution_count": 124,
   "id": "f23f36b5",
   "metadata": {},
   "outputs": [
    {
     "name": "stdout",
     "output_type": "stream",
     "text": [
      "False\n",
      "False\n"
     ]
    }
   ],
   "source": [
    "print(df_propensity[\"stock_Date\"].duplicated().any())\n",
    "print(sp500[\"sp500_Date\"].duplicated().any())\n",
    "\n",
    "sp500 = sp500.rename(columns={\"sp500_Date\": \"stock_Date\"})\n",
    "propensity_merged = df_propensity.merge(sp500, on=\"stock_Date\", how=\"inner\")"
   ]
  },
  {
   "cell_type": "code",
   "execution_count": 125,
   "id": "b28193b2",
   "metadata": {},
   "outputs": [
    {
     "data": {
      "text/html": [
       "<div>\n",
       "<style scoped>\n",
       "    .dataframe tbody tr th:only-of-type {\n",
       "        vertical-align: middle;\n",
       "    }\n",
       "\n",
       "    .dataframe tbody tr th {\n",
       "        vertical-align: top;\n",
       "    }\n",
       "\n",
       "    .dataframe thead th {\n",
       "        text-align: right;\n",
       "    }\n",
       "</style>\n",
       "<table border=\"1\" class=\"dataframe\">\n",
       "  <thead>\n",
       "    <tr style=\"text-align: right;\">\n",
       "      <th></th>\n",
       "      <th>prime_year</th>\n",
       "      <th>prime_start_date</th>\n",
       "      <th>prime_start_datetime</th>\n",
       "      <th>prime_end_datetime</th>\n",
       "      <th>prime_duration_hr</th>\n",
       "      <th>stock_Date</th>\n",
       "      <th>stock_Price</th>\n",
       "      <th>stock_Open</th>\n",
       "      <th>stock_High</th>\n",
       "      <th>stock_Low</th>\n",
       "      <th>stock_Vol.</th>\n",
       "      <th>stock_Change_%</th>\n",
       "      <th>Prime_day</th>\n",
       "      <th>Days_of_week</th>\n",
       "      <th>Month</th>\n",
       "      <th>sp500_Open</th>\n",
       "      <th>sp500_High</th>\n",
       "      <th>sp500_Low</th>\n",
       "      <th>sp500_Close</th>\n",
       "      <th>sp500_Adj Close</th>\n",
       "      <th>sp500_Volume</th>\n",
       "    </tr>\n",
       "  </thead>\n",
       "  <tbody>\n",
       "    <tr>\n",
       "      <th>0</th>\n",
       "      <td>NaN</td>\n",
       "      <td>NaT</td>\n",
       "      <td>NaT</td>\n",
       "      <td>NaT</td>\n",
       "      <td>NaN</td>\n",
       "      <td>2020-11-04</td>\n",
       "      <td>162.06</td>\n",
       "      <td>158.00</td>\n",
       "      <td>162.24</td>\n",
       "      <td>156.99</td>\n",
       "      <td>136.78M</td>\n",
       "      <td>6.32</td>\n",
       "      <td>False</td>\n",
       "      <td>2</td>\n",
       "      <td>11</td>\n",
       "      <td>3406.459961</td>\n",
       "      <td>3486.250000</td>\n",
       "      <td>3405.169922</td>\n",
       "      <td>3443.439941</td>\n",
       "      <td>3443.439941</td>\n",
       "      <td>4783040000</td>\n",
       "    </tr>\n",
       "    <tr>\n",
       "      <th>1</th>\n",
       "      <td>NaN</td>\n",
       "      <td>NaT</td>\n",
       "      <td>NaT</td>\n",
       "      <td>NaT</td>\n",
       "      <td>NaN</td>\n",
       "      <td>2020-11-03</td>\n",
       "      <td>152.42</td>\n",
       "      <td>150.93</td>\n",
       "      <td>153.75</td>\n",
       "      <td>149.05</td>\n",
       "      <td>97.96M</td>\n",
       "      <td>1.46</td>\n",
       "      <td>False</td>\n",
       "      <td>1</td>\n",
       "      <td>11</td>\n",
       "      <td>3336.250000</td>\n",
       "      <td>3389.489990</td>\n",
       "      <td>3336.250000</td>\n",
       "      <td>3369.159912</td>\n",
       "      <td>3369.159912</td>\n",
       "      <td>4220070000</td>\n",
       "    </tr>\n",
       "    <tr>\n",
       "      <th>2</th>\n",
       "      <td>NaN</td>\n",
       "      <td>NaT</td>\n",
       "      <td>NaT</td>\n",
       "      <td>NaT</td>\n",
       "      <td>NaN</td>\n",
       "      <td>2020-11-02</td>\n",
       "      <td>150.22</td>\n",
       "      <td>153.09</td>\n",
       "      <td>153.99</td>\n",
       "      <td>147.51</td>\n",
       "      <td>145.15M</td>\n",
       "      <td>-1.05</td>\n",
       "      <td>False</td>\n",
       "      <td>0</td>\n",
       "      <td>11</td>\n",
       "      <td>3296.199951</td>\n",
       "      <td>3330.139893</td>\n",
       "      <td>3279.739990</td>\n",
       "      <td>3310.239990</td>\n",
       "      <td>3310.239990</td>\n",
       "      <td>4310590000</td>\n",
       "    </tr>\n",
       "  </tbody>\n",
       "</table>\n",
       "</div>"
      ],
      "text/plain": [
       "   prime_year prime_start_date prime_start_datetime prime_end_datetime  \\\n",
       "0         NaN              NaT                  NaT                NaT   \n",
       "1         NaN              NaT                  NaT                NaT   \n",
       "2         NaN              NaT                  NaT                NaT   \n",
       "\n",
       "   prime_duration_hr stock_Date  stock_Price  stock_Open  stock_High  \\\n",
       "0                NaN 2020-11-04       162.06      158.00      162.24   \n",
       "1                NaN 2020-11-03       152.42      150.93      153.75   \n",
       "2                NaN 2020-11-02       150.22      153.09      153.99   \n",
       "\n",
       "   stock_Low stock_Vol.  stock_Change_%  Prime_day  Days_of_week  Month  \\\n",
       "0     156.99    136.78M            6.32      False             2     11   \n",
       "1     149.05     97.96M            1.46      False             1     11   \n",
       "2     147.51    145.15M           -1.05      False             0     11   \n",
       "\n",
       "    sp500_Open   sp500_High    sp500_Low  sp500_Close  sp500_Adj Close  \\\n",
       "0  3406.459961  3486.250000  3405.169922  3443.439941      3443.439941   \n",
       "1  3336.250000  3389.489990  3336.250000  3369.159912      3369.159912   \n",
       "2  3296.199951  3330.139893  3279.739990  3310.239990      3310.239990   \n",
       "\n",
       "   sp500_Volume  \n",
       "0    4783040000  \n",
       "1    4220070000  \n",
       "2    4310590000  "
      ]
     },
     "execution_count": 125,
     "metadata": {},
     "output_type": "execute_result"
    }
   ],
   "source": [
    "propensity_merged.head(3)"
   ]
  },
  {
   "cell_type": "code",
   "execution_count": 126,
   "id": "3742ad87",
   "metadata": {},
   "outputs": [],
   "source": [
    "propensity_merged = propensity_merged.sort_values(\"stock_Date\")\n",
    "propensity_merged[\"sp500_Return\"] = propensity_merged[\"sp500_Close\"].pct_change()"
   ]
  },
  {
   "cell_type": "code",
   "execution_count": null,
   "id": "4f577cb2",
   "metadata": {},
   "outputs": [],
   "source": [
    "# Recent Market return trend prior to a specific Prime Day\n",
    "propensity_merged[\"past_5day_sp500_return\"] = (\n",
    "    propensity_merged[\"sp500_Return\"].rolling(5).sum().shift(1)\n",
    ")"
   ]
  },
  {
   "cell_type": "code",
   "execution_count": 128,
   "id": "0c45fbf5",
   "metadata": {},
   "outputs": [
    {
     "name": "stdout",
     "output_type": "stream",
     "text": [
      "2010-01-04 00:00:00\n",
      "2020-11-04 00:00:00\n"
     ]
    }
   ],
   "source": [
    "print(propensity_merged.stock_Date.min())\n",
    "print(propensity_merged.stock_Date.max())"
   ]
  },
  {
   "cell_type": "code",
   "execution_count": 129,
   "id": "95d45ec3",
   "metadata": {},
   "outputs": [
    {
     "name": "stdout",
     "output_type": "stream",
     "text": [
      "<class 'pandas.core.frame.DataFrame'>\n",
      "Index: 2730 entries, 2729 to 0\n",
      "Data columns (total 23 columns):\n",
      " #   Column                  Non-Null Count  Dtype         \n",
      "---  ------                  --------------  -----         \n",
      " 0   prime_year              10 non-null     float64       \n",
      " 1   prime_start_date        10 non-null     datetime64[ns]\n",
      " 2   prime_start_datetime    10 non-null     datetime64[ns]\n",
      " 3   prime_end_datetime      10 non-null     datetime64[ns]\n",
      " 4   prime_duration_hr       10 non-null     float64       \n",
      " 5   stock_Date              2730 non-null   datetime64[ns]\n",
      " 6   stock_Price             2730 non-null   float64       \n",
      " 7   stock_Open              2730 non-null   float64       \n",
      " 8   stock_High              2730 non-null   float64       \n",
      " 9   stock_Low               2730 non-null   float64       \n",
      " 10  stock_Vol.              2730 non-null   object        \n",
      " 11  stock_Change_%          2730 non-null   float64       \n",
      " 12  Prime_day               2730 non-null   bool          \n",
      " 13  Days_of_week            2730 non-null   int32         \n",
      " 14  Month                   2730 non-null   int32         \n",
      " 15  sp500_Open              2730 non-null   float64       \n",
      " 16  sp500_High              2730 non-null   float64       \n",
      " 17  sp500_Low               2730 non-null   float64       \n",
      " 18  sp500_Close             2730 non-null   float64       \n",
      " 19  sp500_Adj Close         2730 non-null   float64       \n",
      " 20  sp500_Volume            2730 non-null   int64         \n",
      " 21  sp500_Return            2729 non-null   float64       \n",
      " 22  past_5day_sp500_return  2724 non-null   float64       \n",
      "dtypes: bool(1), datetime64[ns](4), float64(14), int32(2), int64(1), object(1)\n",
      "memory usage: 471.9+ KB\n"
     ]
    }
   ],
   "source": [
    "propensity_merged.info()"
   ]
  },
  {
   "cell_type": "code",
   "execution_count": 130,
   "id": "7d53bdae",
   "metadata": {},
   "outputs": [
    {
     "data": {
      "text/html": [
       "<div>\n",
       "<style scoped>\n",
       "    .dataframe tbody tr th:only-of-type {\n",
       "        vertical-align: middle;\n",
       "    }\n",
       "\n",
       "    .dataframe tbody tr th {\n",
       "        vertical-align: top;\n",
       "    }\n",
       "\n",
       "    .dataframe thead th {\n",
       "        text-align: right;\n",
       "    }\n",
       "</style>\n",
       "<table border=\"1\" class=\"dataframe\">\n",
       "  <thead>\n",
       "    <tr style=\"text-align: right;\">\n",
       "      <th></th>\n",
       "      <th>prime_year</th>\n",
       "      <th>prime_start_date</th>\n",
       "      <th>prime_start_datetime</th>\n",
       "      <th>prime_end_datetime</th>\n",
       "      <th>prime_duration_hr</th>\n",
       "      <th>stock_Date</th>\n",
       "      <th>stock_Price</th>\n",
       "      <th>stock_Open</th>\n",
       "      <th>stock_High</th>\n",
       "      <th>stock_Low</th>\n",
       "      <th>stock_Vol.</th>\n",
       "      <th>stock_Change_%</th>\n",
       "      <th>Prime_day</th>\n",
       "      <th>Days_of_week</th>\n",
       "      <th>Month</th>\n",
       "      <th>sp500_Open</th>\n",
       "      <th>sp500_High</th>\n",
       "      <th>sp500_Low</th>\n",
       "      <th>sp500_Close</th>\n",
       "      <th>sp500_Adj Close</th>\n",
       "      <th>sp500_Volume</th>\n",
       "      <th>sp500_Return</th>\n",
       "      <th>past_5day_sp500_return</th>\n",
       "    </tr>\n",
       "  </thead>\n",
       "  <tbody>\n",
       "    <tr>\n",
       "      <th>2729</th>\n",
       "      <td>NaN</td>\n",
       "      <td>NaT</td>\n",
       "      <td>NaT</td>\n",
       "      <td>NaT</td>\n",
       "      <td>NaN</td>\n",
       "      <td>2010-01-04</td>\n",
       "      <td>6.70</td>\n",
       "      <td>6.81</td>\n",
       "      <td>6.83</td>\n",
       "      <td>6.66</td>\n",
       "      <td>152.01M</td>\n",
       "      <td>-0.45</td>\n",
       "      <td>False</td>\n",
       "      <td>0</td>\n",
       "      <td>1</td>\n",
       "      <td>1116.560059</td>\n",
       "      <td>1133.869995</td>\n",
       "      <td>1116.560059</td>\n",
       "      <td>1132.98999</td>\n",
       "      <td>1132.98999</td>\n",
       "      <td>3991400000</td>\n",
       "      <td>NaN</td>\n",
       "      <td>NaN</td>\n",
       "    </tr>\n",
       "    <tr>\n",
       "      <th>2728</th>\n",
       "      <td>NaN</td>\n",
       "      <td>NaT</td>\n",
       "      <td>NaT</td>\n",
       "      <td>NaT</td>\n",
       "      <td>NaN</td>\n",
       "      <td>2010-01-05</td>\n",
       "      <td>6.73</td>\n",
       "      <td>6.67</td>\n",
       "      <td>6.77</td>\n",
       "      <td>6.59</td>\n",
       "      <td>177.13M</td>\n",
       "      <td>0.45</td>\n",
       "      <td>False</td>\n",
       "      <td>1</td>\n",
       "      <td>1</td>\n",
       "      <td>1132.660034</td>\n",
       "      <td>1136.630005</td>\n",
       "      <td>1129.660034</td>\n",
       "      <td>1136.52002</td>\n",
       "      <td>1136.52002</td>\n",
       "      <td>2491020000</td>\n",
       "      <td>0.003116</td>\n",
       "      <td>NaN</td>\n",
       "    </tr>\n",
       "  </tbody>\n",
       "</table>\n",
       "</div>"
      ],
      "text/plain": [
       "      prime_year prime_start_date prime_start_datetime prime_end_datetime  \\\n",
       "2729         NaN              NaT                  NaT                NaT   \n",
       "2728         NaN              NaT                  NaT                NaT   \n",
       "\n",
       "      prime_duration_hr stock_Date  stock_Price  stock_Open  stock_High  \\\n",
       "2729                NaN 2010-01-04         6.70        6.81        6.83   \n",
       "2728                NaN 2010-01-05         6.73        6.67        6.77   \n",
       "\n",
       "      stock_Low stock_Vol.  stock_Change_%  Prime_day  Days_of_week  Month  \\\n",
       "2729       6.66    152.01M           -0.45      False             0      1   \n",
       "2728       6.59    177.13M            0.45      False             1      1   \n",
       "\n",
       "       sp500_Open   sp500_High    sp500_Low  sp500_Close  sp500_Adj Close  \\\n",
       "2729  1116.560059  1133.869995  1116.560059   1132.98999       1132.98999   \n",
       "2728  1132.660034  1136.630005  1129.660034   1136.52002       1136.52002   \n",
       "\n",
       "      sp500_Volume  sp500_Return  past_5day_sp500_return  \n",
       "2729    3991400000           NaN                     NaN  \n",
       "2728    2491020000      0.003116                     NaN  "
      ]
     },
     "execution_count": 130,
     "metadata": {},
     "output_type": "execute_result"
    }
   ],
   "source": [
    "propensity_merged.head(2)"
   ]
  },
  {
   "cell_type": "code",
   "execution_count": 94,
   "id": "4e16e0f0",
   "metadata": {},
   "outputs": [
    {
     "name": "stdout",
     "output_type": "stream",
     "text": [
      "Optimization terminated successfully.\n",
      "         Current function value: 0.022609\n",
      "         Iterations 11\n",
      "Estimated treatment effect of Prime Day on stock change %: 0.43600000000000017\n"
     ]
    },
    {
     "name": "stderr",
     "output_type": "stream",
     "text": [
      "/var/folders/l1/_wpfw91x3_v1dkxzfb_546f40000gn/T/ipykernel_48067/1882198926.py:2: SettingWithCopyWarning: \n",
      "A value is trying to be set on a copy of a slice from a DataFrame.\n",
      "Try using .loc[row_indexer,col_indexer] = value instead\n",
      "\n",
      "See the caveats in the documentation: https://pandas.pydata.org/pandas-docs/stable/user_guide/indexing.html#returning-a-view-versus-a-copy\n",
      "  psm_df[\"Prime_day\"] = psm_df[\"Prime_day\"].astype(int)\n",
      "/var/folders/l1/_wpfw91x3_v1dkxzfb_546f40000gn/T/ipykernel_48067/1882198926.py:12: SettingWithCopyWarning: \n",
      "A value is trying to be set on a copy of a slice from a DataFrame.\n",
      "Try using .loc[row_indexer,col_indexer] = value instead\n",
      "\n",
      "See the caveats in the documentation: https://pandas.pydata.org/pandas-docs/stable/user_guide/indexing.html#returning-a-view-versus-a-copy\n",
      "  psm_df['propensity_score'] = logit.predict(X)\n"
     ]
    }
   ],
   "source": [
    "psm_df = propensity_merged.dropna(subset=['sp500_Return', 'past_5day_sp500_return', \"Days_of_week\", \"Month\"])\n",
    "psm_df[\"Prime_day\"] = psm_df[\"Prime_day\"].astype(int)\n",
    "\n",
    "treatment_col = \"Prime_day\"\n",
    "covariates = ['sp500_Return', 'past_5day_sp500_return', 'Days_of_week', 'Month']\n",
    "\n",
    "X = psm_df[covariates]\n",
    "X = sm.add_constant(X)\n",
    "y = psm_df[treatment_col]\n",
    "\n",
    "logit = sm.Logit(y, X).fit()\n",
    "psm_df['propensity_score'] = logit.predict(X)\n",
    "\n",
    "treated = psm_df[psm_df[treatment_col] == 1]\n",
    "control = psm_df[psm_df[treatment_col] == 0]\n",
    "\n",
    "nn = NearestNeighbors(n_neighbors=1)\n",
    "nn.fit(control[['propensity_score']])\n",
    "_, indices = nn.kneighbors(treated[['propensity_score']])\n",
    "\n",
    "matched_control = control.iloc[indices.flatten()].copy()\n",
    "matched_treated = treated.reset_index(drop=True)\n",
    "\n",
    "matched_df = pd.concat([matched_treated, matched_control])\n",
    "\n",
    "\n",
    "treated_outcome = matched_treated['stock_Change_%']\n",
    "control_outcome = matched_control['stock_Change_%']\n",
    "\n",
    "effect = treated_outcome.mean() - control_outcome.mean()\n",
    "print(\"Estimated treatment effect of Prime Day on stock change %:\", effect)\n"
   ]
  },
  {
   "cell_type": "code",
   "execution_count": 132,
   "id": "63604a79",
   "metadata": {},
   "outputs": [
    {
     "data": {
      "image/png": "[encoded data removed]",
      "text/plain": [
       "<Figure size 1000x500 with 1 Axes>"
      ]
     },
     "metadata": {},
     "output_type": "display_data"
    }
   ],
   "source": [
    "import matplotlib.pyplot as plt\n",
    "import seaborn as sns\n",
    "\n",
    "# Before Matching\n",
    "plt.figure(figsize=(10, 5))\n",
    "sns.kdeplot(psm_df[psm_df[\"Prime_day\"] == 1][\"propensity_score\"], label=\"Treated (Prime Day)\", fill=True, color='blue')\n",
    "sns.kdeplot(psm_df[psm_df[\"Prime_day\"] == 0][\"propensity_score\"], label=\"Control (Non–Prime Day)\", fill=True, color='gray')\n",
    "plt.title(\"Propensity Score Distribution (Before Matching)\")\n",
    "plt.xlabel(\"Propensity Score\")\n",
    "plt.ylabel(\"Density\")\n",
    "plt.legend()\n",
    "plt.show()\n"
   ]
  },
  {
   "cell_type": "code",
   "execution_count": 133,
   "id": "ff099518",
   "metadata": {},
   "outputs": [
    {
     "data": {
      "image/png": "[encoded data removed]",
      "text/plain": [
       "<Figure size 1000x500 with 1 Axes>"
      ]
     },
     "metadata": {},
     "output_type": "display_data"
    }
   ],
   "source": [
    "plt.figure(figsize=(10, 5))\n",
    "sns.kdeplot(matched_treated[\"propensity_score\"], label=\"Matched Treated\", fill=True, color='blue')\n",
    "sns.kdeplot(matched_control[\"propensity_score\"], label=\"Matched Control\", fill=True, color='gray')\n",
    "plt.title(\"Propensity Score Distribution (After Matching)\")\n",
    "plt.xlabel(\"Propensity Score\")\n",
    "plt.ylabel(\"Density\")\n",
    "plt.legend()\n",
    "plt.show()\n"
   ]
  },
  {
   "cell_type": "code",
   "execution_count": 134,
   "id": "8729b249",
   "metadata": {},
   "outputs": [
    {
     "data": {
      "image/png": "[encoded data removed]",
      "text/plain": [
       "<Figure size 1000x600 with 1 Axes>"
      ]
     },
     "metadata": {},
     "output_type": "display_data"
    }
   ],
   "source": [
    "plt.figure(figsize=(10, 6))\n",
    "for i in range(len(matched_treated)):\n",
    "    plt.plot(\n",
    "        [1, 2], \n",
    "        [matched_treated.iloc[i][\"propensity_score\"], matched_control.iloc[i][\"propensity_score\"]],\n",
    "        'k-', alpha=0.4\n",
    "    )\n",
    "\n",
    "plt.scatter([1]*len(matched_treated), matched_treated[\"propensity_score\"], color='blue', label='Treated')\n",
    "plt.scatter([2]*len(matched_control), matched_control[\"propensity_score\"], color='gray', label='Matched Control')\n",
    "plt.xticks([1, 2], ['Treated', 'Matched Control'])\n",
    "plt.title(\"Matched Pairs by Propensity Score\")\n",
    "plt.ylabel(\"Propensity Score\")\n",
    "plt.legend()\n",
    "plt.show()\n"
   ]
  },
  {
   "cell_type": "markdown",
   "id": "fea9d73f",
   "metadata": {},
   "source": [
    "T test"
   ]
  },
  {
   "cell_type": "code",
   "execution_count": 138,
   "id": "2c8746a2",
   "metadata": {},
   "outputs": [
    {
     "name": "stdout",
     "output_type": "stream",
     "text": [
      "t-statistic: 0.7269220316667436\n",
      "p-value: 0.4857505375258644\n"
     ]
    }
   ],
   "source": [
    "from scipy.stats import ttest_rel\n",
    "\n",
    "t_stat, p_value = ttest_rel(treated_outcome, control_outcome)\n",
    "\n",
    "print(\"t-statistic:\", t_stat)\n",
    "print(\"p-value:\", p_value)\n"
   ]
  },
  {
   "cell_type": "code",
   "execution_count": 95,
   "id": "6a61e3d6",
   "metadata": {},
   "outputs": [
    {
     "name": "stdout",
     "output_type": "stream",
     "text": [
      "sp500_Return:\n",
      "Treated mean: -4.1517328997997535e-05\n",
      "Control mean: -0.0011919918253731287\n",
      "\n",
      "past_5day_sp500_return:\n",
      "Treated mean: 0.015192914148855352\n",
      "Control mean: 0.009564669556047112\n",
      "\n",
      "Days_of_week:\n",
      "Treated mean: 1.1\n",
      "Control mean: 1.1\n",
      "\n",
      "Month:\n",
      "Treated mean: 7.6\n",
      "Control mean: 8.9\n",
      "\n"
     ]
    }
   ],
   "source": [
    "for col in covariates:\n",
    "    print(f\"{col}:\")\n",
    "    print(\"Treated mean:\", matched_treated[col].mean())\n",
    "    print(\"Control mean:\", matched_control[col].mean())\n",
    "    print()\n"
   ]
  }
 ],
 "metadata": {
  "kernelspec": {
   "display_name": "semsearch_env",
   "language": "python",
   "name": "python3"
  },
  "language_info": {
   "codemirror_mode": {
    "name": "ipython",
    "version": 3
   },
   "file_extension": ".py",
   "mimetype": "text/x-python",
   "name": "python",
   "nbconvert_exporter": "python",
   "pygments_lexer": "ipython3",
   "version": "3.11.5"
  }
 },
 "nbformat": 4,
 "nbformat_minor": 5
}
